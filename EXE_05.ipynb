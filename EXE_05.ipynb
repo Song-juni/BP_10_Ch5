{
  "nbformat": 4,
  "nbformat_minor": 0,
  "metadata": {
    "colab": {
      "provenance": [],
      "authorship_tag": "ABX9TyPShukpgIrSHG/btsvU1sh9",
      "include_colab_link": true
    },
    "kernelspec": {
      "name": "python3",
      "display_name": "Python 3"
    },
    "language_info": {
      "name": "python"
    }
  },
  "cells": [
    {
      "cell_type": "markdown",
      "metadata": {
        "id": "view-in-github",
        "colab_type": "text"
      },
      "source": [
        "<a href=\"https://colab.research.google.com/github/Song-juni/BP_10_Ch5/blob/main/EXE_05.ipynb\" target=\"_parent\"><img src=\"https://colab.research.google.com/assets/colab-badge.svg\" alt=\"Open In Colab\"/></a>"
      ]
    },
    {
      "cell_type": "markdown",
      "source": [
        "#5-1"
      ],
      "metadata": {
        "id": "zXoRQEqV2q2n"
      }
    },
    {
      "cell_type": "code",
      "execution_count": 1,
      "metadata": {
        "colab": {
          "base_uri": "https://localhost:8080/"
        },
        "id": "lvy8ZyNI2SQ9",
        "outputId": "14183764-a19e-43f6-d3a2-0e8404c443d5"
      },
      "outputs": [
        {
          "output_type": "stream",
          "name": "stdout",
          "text": [
            "20살 이상\n"
          ]
        }
      ],
      "source": [
        "age = 20\n",
        "if age < 20:\n",
        "  print(\"20살 미만\")\n",
        "else:\n",
        "  print(\"20살 이상\")"
      ]
    },
    {
      "cell_type": "markdown",
      "source": [
        "#5-2"
      ],
      "metadata": {
        "id": "3qc7Dgwk-e2r"
      }
    },
    {
      "cell_type": "code",
      "source": [
        "age = 33\n",
        "if age >= 30 and age <= 50:\n",
        "  print(\"30살 이상이고 50살 이하\")"
      ],
      "metadata": {
        "colab": {
          "base_uri": "https://localhost:8080/"
        },
        "id": "tQoAwSYS-gUa",
        "outputId": "79187dd6-065e-4ee3-daa2-66a4d1305268"
      },
      "execution_count": 4,
      "outputs": [
        {
          "output_type": "stream",
          "name": "stdout",
          "text": [
            "30살 이상이고 50살 이하\n"
          ]
        }
      ]
    },
    {
      "cell_type": "markdown",
      "source": [
        "#5-3"
      ],
      "metadata": {
        "id": "mUq5i3uh-5_y"
      }
    },
    {
      "cell_type": "code",
      "source": [
        "temp = int(input(\"현재 온도를 입력하시오: \"))\n",
        "\n",
        "if temp >= 25:\n",
        "  print(\"반바지를 입으세요\")\n",
        "else:\n",
        "  print(\"긴바지를 입으세요\")"
      ],
      "metadata": {
        "colab": {
          "base_uri": "https://localhost:8080/"
        },
        "id": "5kUj2w6f-_Wb",
        "outputId": "61546b6d-b47f-405a-80df-b97b49303163"
      },
      "execution_count": 5,
      "outputs": [
        {
          "output_type": "stream",
          "name": "stdout",
          "text": [
            "현재 온도를 입력하시오: 11\n",
            "긴바지를 입으세요\n"
          ]
        }
      ]
    },
    {
      "cell_type": "markdown",
      "source": [
        "#5-4"
      ],
      "metadata": {
        "id": "bTr8NZzU_Vsa"
      }
    },
    {
      "cell_type": "code",
      "source": [
        "score = int(input(\"성적을 입력하시오: \"))\n",
        "\n",
        "if score >= 90:\n",
        "  print(\"A학점입니다.\")\n",
        "elif score >= 80:\n",
        "  print(\"B학점입니다.\")\n",
        "elif score >= 70:\n",
        "  print(\"C학점입니다.\")\n",
        "elif score >= 60:\n",
        "  print(\"D학점입니다\")\n",
        "\n",
        "else:\n",
        "  print(\"F학점입니다.\")"
      ],
      "metadata": {
        "colab": {
          "base_uri": "https://localhost:8080/"
        },
        "id": "m3m5C3o7_W2i",
        "outputId": "c4e5f438-eb7e-49e5-f775-088f1ab6097a"
      },
      "execution_count": 6,
      "outputs": [
        {
          "output_type": "stream",
          "name": "stdout",
          "text": [
            "성적을 입력하시오: 81\n",
            "B학점입니다.\n"
          ]
        }
      ]
    },
    {
      "cell_type": "markdown",
      "source": [
        "#5-5"
      ],
      "metadata": {
        "id": "LXXpVxUKAAoi"
      }
    },
    {
      "cell_type": "code",
      "source": [
        "import random\n",
        "x = random.randint(1, 100)\n",
        "y = random.randint(1, 100)\n",
        "\n",
        "ans = int(input(str(x) + \"-\" + str(y) + \"=\"))\n",
        "\n",
        "if ans == x - y:\n",
        "  print(\"맞았습니다.\")\n",
        "else:\n",
        "  print(\"틀렸습니다.\")"
      ],
      "metadata": {
        "colab": {
          "base_uri": "https://localhost:8080/"
        },
        "id": "ysxECVl_ACBC",
        "outputId": "c43144cd-3926-46cb-a065-de2efc350004"
      },
      "execution_count": 7,
      "outputs": [
        {
          "output_type": "stream",
          "name": "stdout",
          "text": [
            "62-7=55\n",
            "맞았습니다.\n"
          ]
        }
      ]
    },
    {
      "cell_type": "markdown",
      "source": [
        "#5-6"
      ],
      "metadata": {
        "id": "7YgRRlmyAntj"
      }
    },
    {
      "cell_type": "code",
      "source": [
        "n = int(input(\"정수를 입력하시오: \"))\n",
        "\n",
        "if n%2 == 0 and n%3 == 0:\n",
        "  print(\"2와 3으로 나누어 떨어집니다.\")\n",
        "else:\n",
        "  print(\"2와 3으로 나누어 떨어지지 않습니다.\")"
      ],
      "metadata": {
        "colab": {
          "base_uri": "https://localhost:8080/"
        },
        "id": "4RXXaDC9ApHa",
        "outputId": "d8fda0e2-19b6-4d8e-9b69-a09900f639e5"
      },
      "execution_count": 8,
      "outputs": [
        {
          "output_type": "stream",
          "name": "stdout",
          "text": [
            "정수를 입력하시오: 10\n",
            "2와 3으로 나누어 떨어지지 않습니다.\n"
          ]
        }
      ]
    },
    {
      "cell_type": "markdown",
      "source": [
        "#5-7"
      ],
      "metadata": {
        "id": "-fJWCC3vBCFD"
      }
    },
    {
      "cell_type": "code",
      "source": [
        "import random\n",
        "\n",
        "solution = random.randint(0, 99)\n",
        "\n",
        "user = int(input(\"복권번호를 입력하시오(0과 99사이): \"))\n",
        "\n",
        "digit1 = solution // 10\n",
        "digit2 = solution % 10\n",
        "\n",
        "u_digit1 = user // 10\n",
        "u_digit2 = user % 10\n",
        "\n",
        "print(\"당첨번호는\", solution, \"입니다.\")"
      ],
      "metadata": {
        "colab": {
          "base_uri": "https://localhost:8080/"
        },
        "id": "8B2nJx5_BDD0",
        "outputId": "00cb28b0-1307-4c19-d308-1df68fb23bfe"
      },
      "execution_count": 11,
      "outputs": [
        {
          "output_type": "stream",
          "name": "stdout",
          "text": [
            "복권번호를 입력하시오(0과 99사이): 27\n",
            "당첨번호는 35 입니다.\n"
          ]
        }
      ]
    },
    {
      "cell_type": "markdown",
      "source": [
        "#5-8"
      ],
      "metadata": {
        "id": "-veXe4dOB2Ey"
      }
    },
    {
      "cell_type": "code",
      "source": [
        "import turtle\n",
        "t = turtle.Turtle()\n",
        "t.shape(\"turtle\")\n",
        "\n",
        "x1 = int(input(\"큰 원의 중심좌표 x1: \"))\n",
        "y1 = int(input(\"큰 원의 중심좌표 y1: \"))\n",
        "r1 = int(input(\"큰 원의 반지름: \"))\n",
        "x2 = int(input(\"작은 원의 중심좌표 x2: \"))\n",
        "y2 = int(input(\"작은 원의 중심좌표 y2: \"))\n",
        "r2 = int(input(\"작은 원의 반지름: \"))\n",
        "\n",
        "t.penup()\n",
        "t.goto(x1, y1)\n",
        "t.pendown()\n",
        "t.circle(r1)\n",
        "\n",
        "t.penup()\n",
        "t.goto(x2, y2)\n",
        "t.pendown()\n",
        "t.circle(r2)\n",
        "\n",
        "dist = ((x1 - x2)*(x1 - x2) + (y1 - y2)*(y1 - y2)) ** 0.5\n",
        "if dist <= r1 - r2:\n",
        "  turtle.write(\"두번째 원이 첫번째 원의 내부에 있습니다.\")\n",
        "elif dist <= r1 + r2:\n",
        "  turtle.write(\"두번째 원이 첫번째 원과 겹칩니다.\")\n",
        "else:\n",
        "  turtle.write(\"두번째 원이 첫번째 원과 겹치지 않습니다.\")\n",
        "t._screen.exitionclick()"
      ],
      "metadata": {
        "id": "ToVXtajpB3N6"
      },
      "execution_count": null,
      "outputs": []
    }
  ]
}